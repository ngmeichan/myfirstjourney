{
  "nbformat": 4,
  "nbformat_minor": 0,
  "metadata": {
    "colab": {
      "name": "meichan ng - 2022_Python_Programming_Practical_1.ipynb",
      "provenance": [],
      "collapsed_sections": [],
      "include_colab_link": true
    },
    "kernelspec": {
      "name": "python3",
      "display_name": "Python 3"
    }
  },
  "cells": [
    {
      "cell_type": "markdown",
      "metadata": {
        "id": "view-in-github",
        "colab_type": "text"
      },
      "source": [
        "<a href=\"https://colab.research.google.com/github/ngmeichan/myfirstjourney/blob/main/meichan_ng_2022_Python_Programming_Practical_1.ipynb\" target=\"_parent\"><img src=\"https://colab.research.google.com/assets/colab-badge.svg\" alt=\"Open In Colab\"/></a>"
      ]
    },
    {
      "cell_type": "markdown",
      "metadata": {
        "id": "jp3BkDml8xiR"
      },
      "source": [
        "# **2022 Python Programming Practical 1**\n",
        "\n",
        "If you do not have one already, create a [GitHub](https://github.com) account.\n",
        "\n",
        "Create a public repository ctcuc22\n",
        "\n",
        "File --> Save a copy in GitHub under this repository\n",
        "\n",
        "For the following questions,\n",
        "\n",
        "*   standard input: keyboard\n",
        "*   standard output: screen\n",
        "\n"
      ]
    },
    {
      "cell_type": "markdown",
      "metadata": {
        "id": "-U8w0oQW9P_b"
      },
      "source": [
        "**Q1. (Converting Fahrenheit to Celsius)**\n",
        "\n",
        "Write a program that reads a Fahrenheit degree as a float from standard input, then converts it to Celsius and displays the result in standard output. The formula for the conversion is:\n",
        "```\n",
        "celsius = (5/9) * (fahrenheit - 32)\n",
        "```"
      ]
    },
    {
      "cell_type": "code",
      "metadata": {
        "id": "D0uTR7B-8qbF",
        "colab": {
          "base_uri": "https://localhost:8080/"
        },
        "outputId": "4f9475dc-1f34-4b63-c26f-b8b1891a6da6"
      },
      "source": [
        "# get input\n",
        "fahrenheit = float(input(\"Please enter temperature in Fahrenheit degree: \"))\n",
        "\n",
        "# process data\n",
        "celsius = round(5/9 * (fahrenheit - 32),1)\n",
        "\n",
        "# output result\n",
        "print(\"{} Fahrenheit degree = {} degree C\".format(fahrenheit, celsius))"
      ],
      "execution_count": 29,
      "outputs": [
        {
          "output_type": "stream",
          "name": "stdout",
          "text": [
            "Please enter temperature in Fahrenheit degree: 300.5\n",
            "300.5 Fahrenheit degree = 149.2 degree C\n"
          ]
        }
      ]
    },
    {
      "cell_type": "markdown",
      "metadata": {
        "id": "7Ui5CuS_9Za1"
      },
      "source": [
        "**Q2. (Computing the volume of a cylinder)**\n",
        "\n",
        "Write a program that reads in the radius and length of a cylinder and computes its volume using the formulae:\n",
        "```\n",
        "area = radius * radius * pi\n",
        "volume = area * length\n",
        "```\n",
        "\n",
        "\n"
      ]
    },
    {
      "cell_type": "code",
      "metadata": {
        "id": "CfkRAAWV9cXS",
        "colab": {
          "base_uri": "https://localhost:8080/"
        },
        "outputId": "fc440fc8-2bb1-4ff4-f848-4fc7121f29c9"
      },
      "source": [
        "#import math\n",
        "\n",
        "# constants\n",
        "PI = 3.142 # DRY -  Don't repeat yourself\n",
        "\n",
        "# get input\n",
        "radius = float(input(\"Enter radius of cylinder in cm: \"))\n",
        "length = float(input(\"Enter length of cylinder in cm: \"))\n",
        "\n",
        "# process data\n",
        "area = round(radius * radius * PI,1)\n",
        "volume = round(area * length, 1)\n",
        "\n",
        "# output result\n",
        "print(\"Area of cylinder = {}\".format(area))\n",
        "print(\"Volume of cylinder = {}\".format(volume))"
      ],
      "execution_count": 13,
      "outputs": [
        {
          "output_type": "stream",
          "name": "stdout",
          "text": [
            "Enter radius of cylinder in cm: 5\n",
            "Enter length of cylinder in cm: 5\n",
            "Area of cylinder = 78.5\n",
            "Volume of cylinder = 392.5\n"
          ]
        }
      ]
    },
    {
      "cell_type": "markdown",
      "metadata": {
        "id": "aVhHiT8w9c7d"
      },
      "source": [
        "**Q3. (Converting miles into kilometers)**\n",
        "\n",
        "Write a program that reads a number in miles, converts it to kilometres, and outputs the result. One mile is 1.60934 kilometres. Display your answer correct to 3 decimal places."
      ]
    },
    {
      "cell_type": "code",
      "metadata": {
        "id": "PwRmweEa9fny",
        "colab": {
          "base_uri": "https://localhost:8080/"
        },
        "outputId": "db34c122-bdc6-4b6a-af8e-9c71aded2f97"
      },
      "source": [
        "# get input\n",
        "miles = int(input(\"Enter distance in miles: \"))\n",
        "\n",
        "# process data\n",
        "kilometres = round(miles * 1.60934,3)\n",
        "\n",
        "# output result\n",
        "print(\"{} miles in kilometres = {}\".format(miles, kilometres))"
      ],
      "execution_count": 8,
      "outputs": [
        {
          "output_type": "stream",
          "name": "stdout",
          "text": [
            "Enter distance in miles: 2\n",
            "2 miles in kilometres = 3.219\n"
          ]
        }
      ]
    },
    {
      "cell_type": "markdown",
      "metadata": {
        "id": "GwAIqQNY9gFd"
      },
      "source": [
        "**Q4. (Summing the digits in an integer)**\n",
        "\n",
        "Write a program that reads an integer between 0 and 1000 and adds all the digits in the integer. For example, if an integer is 932, the sum of all its digits is 14.\n",
        "\n",
        "Hint: Use the % operator to extract digits, and use the // operator to remove the extracted digit. For instance, 932 % 10 = 2 and 932 // 10 = 93"
      ]
    },
    {
      "cell_type": "code",
      "metadata": {
        "id": "aOozTwoR9j9B",
        "colab": {
          "base_uri": "https://localhost:8080/"
        },
        "outputId": "0fa2c7e3-ecf8-4f9d-9f5f-fbde8b7167cf"
      },
      "source": [
        "# get input\n",
        "num = int(input(\"Please enter an integer between 0 and 1000: \"))\n",
        "\n",
        "# process data\n",
        "sum_of_digits = 0\n",
        "\n",
        "# while num > 0:\n",
        "#   sum_of_digits += num % 10\n",
        "#   num = num // 10 \n",
        "\n",
        "# Alternative solution\n",
        "\n",
        "digit1 = num % 10\n",
        "num = num // 10\n",
        "\n",
        "digit2 = num % 10\n",
        "num = num // 10\n",
        "\n",
        "digit3 = num % 10\n",
        "num = num // 10\n",
        "\n",
        "# num = digit4\n",
        "sum_of_digits = digit1 + digit2 + digit3 + num\n",
        "\n",
        "\n",
        "# output result\n",
        "print(\"The sum of all its digits is {}\".format(sum_of_digits))"
      ],
      "execution_count": 17,
      "outputs": [
        {
          "output_type": "stream",
          "name": "stdout",
          "text": [
            "Please enter an integer between 0 and 1000: 5432\n",
            "The sum of all its digits is 14\n"
          ]
        }
      ]
    },
    {
      "cell_type": "markdown",
      "metadata": {
        "id": "lE0ScX9e9kcg"
      },
      "source": [
        "**Q5. (Converting an uppercase letter to lowercase)**\n",
        "\n",
        "Write a program that converts an uppercase letter from standard input to a lowercase letter by making use of its ASCII value.\n",
        "\n",
        "http://www.asciitable.com"
      ]
    },
    {
      "cell_type": "code",
      "metadata": {
        "id": "sE_bxwDs9mf6",
        "outputId": "38a3c0e1-b5fa-4875-b987-fcc66f3f6b5b",
        "colab": {
          "base_uri": "https://localhost:8080/",
          "height": 52
        }
      },
      "source": [
        "upper = input(\"Enter uppercase letter: \")\n",
        "lower = ord(upper) + 32 # ordinal\n",
        "print(chr(lower))"
      ],
      "execution_count": null,
      "outputs": [
        {
          "output_type": "stream",
          "text": [
            "Enter uppercase letter: Y\n",
            "y\n"
          ],
          "name": "stdout"
        }
      ]
    },
    {
      "cell_type": "markdown",
      "metadata": {
        "id": "KSviQY0T9m7Q"
      },
      "source": [
        "**Q6. (Finding the character of an ASCII code)**\n",
        "\n",
        "Write a program that receives an ASCII value (an integer between 0 and 127) and displays its character. For example, if the user enters 97, the program displays character a.\n",
        "\n",
        "http://www.asciitable.com"
      ]
    },
    {
      "cell_type": "code",
      "metadata": {
        "id": "YbH9Pbul9rK-",
        "colab": {
          "base_uri": "https://localhost:8080/"
        },
        "outputId": "371a749d-1126-40b4-da10-78313680c996"
      },
      "source": [
        "# get input\n",
        "ascii_value = int(input(\"Enter an integer between 0 and 127: \"))\n",
        "\n",
        "# process ascii to character\n",
        "character = chr(ascii_value)\n",
        "\n",
        "# output result\n",
        "print(\"The character of the ASCII value {} is {}\".format(ascii_value, character))"
      ],
      "execution_count": 19,
      "outputs": [
        {
          "output_type": "stream",
          "name": "stdout",
          "text": [
            "Enter an integer between 0 and 127: 65\n",
            "The character of the ASCII value 65 is A\n"
          ]
        }
      ]
    },
    {
      "cell_type": "markdown",
      "metadata": {
        "id": "V9Z95nlg97e4"
      },
      "source": [
        "**Q7. (Payroll)**\n",
        "\n",
        "Write a program that reads in the following information and prints a payroll statement. A sample input and output session is as follows:\n",
        "\n",
        "Sample input:\n",
        "```\n",
        "Enter name: Lim Ah Seng\n",
        "Enter number of hours worked weekly: 10\n",
        "Enter hourly pay rate: 6.75\n",
        "Enter CPF contribution rate(%): 20\n",
        "```\n",
        "\n",
        "Sample output:\n",
        "```\n",
        "Payroll statement for Lim Ah Seng\n",
        "Number of hours worked in week: 10\n",
        "Hourly pay rate: $6.75\n",
        "Gross pay = $67.50\n",
        "CPF contribution at 20% = $13.50\n",
        "Net pay = $54.00\n",
        "```\n",
        "\n"
      ]
    },
    {
      "cell_type": "code",
      "metadata": {
        "id": "1AZvvAW499PK",
        "colab": {
          "base_uri": "https://localhost:8080/"
        },
        "outputId": "732490c3-faf2-4964-fb5f-67bebb35bddf"
      },
      "source": [
        "# get input\n",
        "name = input(\"Enter name: \")\n",
        "num_of_hours = int(input(\"Enter number of hours worked weekly: \"))\n",
        "pay_rate = float(input(\"Enter hourly pay rate: \"))\n",
        "CPF_contribution_rate = int(input(\"Enter CPF contribution rate(%): \"))\n",
        "\n",
        "# process data\n",
        "gross_pay = num_of_hours * pay_rate\n",
        "CPF_contribution = CPF_contribution_rate/100 * gross_pay\n",
        "net_pay = gross_pay - CPF_contribution\n",
        "\n",
        "print()\n",
        "print(\"Payroll statement for\", name)\n",
        "print(\"Number of hours worked in week:\", num_of_hours)\n",
        "print(\"Hourly pay rate: ${}\".format(pay_rate))\n",
        "print(\"CPF contribution at {}% = ${}\".format(CPF_contribution_rate, CPF_contribution))\n",
        "print(\"Net pay = ${}\".format(net_pay))"
      ],
      "execution_count": 23,
      "outputs": [
        {
          "output_type": "stream",
          "name": "stdout",
          "text": [
            "Enter name: Lim Ah Seng\n",
            "Enter number of hours worked weekly: 10\n",
            "Enter hourly pay rate: 6.75\n",
            "Enter CPF contribution rate(%): 20\n",
            "\n",
            "Payroll statement for Lim Ah Seng\n",
            "Number of hours worked in week: 10\n",
            "Hourly pay rate: $6.75\n",
            "CPF contribution at 20% = $13.5\n",
            "Net pay = $54.0\n"
          ]
        }
      ]
    }
  ]
}